{
 "cells": [
  {
   "cell_type": "code",
   "execution_count": 88,
   "metadata": {},
   "outputs": [],
   "source": [
    "import numpy as np\n",
    "from matplotlib import pyplot\n",
    "\n",
    "from tensorflow.keras.datasets import mnist\n",
    "from tensorflow.keras.models import Sequential\n",
    "from tensorflow.keras.layers import Conv2D, MaxPooling2D, Activation, Dense, Dropout, Flatten\n",
    "from tensorflow.keras.optimizers import Adam\n",
    "\n",
    "from sklearn.model_selection import KFold"
   ]
  },
  {
   "cell_type": "code",
   "execution_count": 89,
   "metadata": {},
   "outputs": [],
   "source": [
    "(trainX, trainY), (testX, testY) = mnist.load_data()\n",
    "\n",
    "\n",
    "trainX = trainX.reshape(trainX.shape[0], 28, 28, 1)\n",
    "testX  = testX.reshape(testX.shape[0], 28, 28, 1)\n",
    "\n",
    "trainX = trainX.astype(float)/255\n",
    "testX = testX.astype(float)/255\n",
    "\n",
    "trainY = keras.utils.np_utils.to_categorical(trainY, 10)\n",
    "testY = keras.utils.np_utils.to_categorical(testY, 10)\n"
   ]
  },
  {
   "cell_type": "code",
   "execution_count": 102,
   "metadata": {},
   "outputs": [],
   "source": [
    "# Model 1\n",
    "model = Sequential()\n",
    "\n",
    "model.add(Conv2D(32, (2, 2), input_shape=(28,28,1)))\n",
    "\n",
    "model.add(Activation('relu'))\n",
    "\n",
    "model.add(Conv2D(64, (2, 2)))\n",
    "\n",
    "model.add(Activation('relu'))\n",
    "model.add(MaxPooling2D(pool_size=(2,2)))\n",
    "\n",
    "model.add(Conv2D(64,(2, 2)))\n",
    "\n",
    "model.add(Activation('relu'))\n",
    "\n",
    "model.add(Conv2D(64, (2, 2)))\n",
    "\n",
    "model.add(Activation('relu'))\n",
    "model.add(MaxPooling2D(pool_size=(2,2)))\n",
    "\n",
    "model.add(Flatten())\n",
    "model.add(Dense(512, activation='relu'))\n",
    "model.add(Dropout(0.2))       \n",
    "model.add(Dense(10, activation='softmax'))\n",
    "model.compile(loss='categorical_crossentropy', optimizer=Adam(), metrics=['accuracy'])"
   ]
  },
  {
   "cell_type": "code",
   "execution_count": 113,
   "metadata": {},
   "outputs": [],
   "source": [
    "#Model 2\n",
    "model2 = Sequential()\n",
    "\n",
    "model2.add(Conv2D(32, (7,7), input_shape=(28,28,1)))\n",
    "model2.add(Activation('relu'))\n",
    "model2.add(MaxPooling2D(pool_size=(2,2)))\n",
    "\n",
    "model2.add(Conv2D(32, (7, 7)))\n",
    "model2.add(Activation('relu'))\n",
    "model2.add(MaxPooling2D(pool_size=(2,2)))\n",
    "model2.add(Flatten())\n",
    "\n",
    "model2.add(Dense(10, activation='softmax'))\n",
    "model2.compile(loss='categorical_crossentropy', optimizer=Adam(), metrics=['accuracy'])\n"
   ]
  },
  {
   "cell_type": "code",
   "execution_count": 104,
   "metadata": {},
   "outputs": [],
   "source": [
    "#Model 3\n",
    "model3 = Sequential()\n",
    "model3.add(Conv2D(32, kernel_size=(7,7),activation='relu',input_shape=input_shape))\n",
    "model3.add(Conv2D(128, (7, 7), activation='relu'))\n",
    "model3.add(MaxPooling2D(pool_size=(2, 2)))\n",
    "model3.add(BatchNormalization())\n",
    "model3.add(Dropout(0.5))\n",
    "\n",
    "model3.add(Conv2D(64, (7, 7), activation='relu'))\n",
    "model3.add(MaxPooling2D(pool_size=(2, 2)))\n",
    "model3.add(BatchNormalization())\n",
    "model3.add(Dropout(0.5))\n",
    "\n",
    "model3.add(Flatten())\n",
    "model3.add(Dense(10, activation='softmax'))\n",
    "model3.compile(loss='categorical_crossentropy', optimizer=Adam(), metrics=['accuracy'])"
   ]
  },
  {
   "cell_type": "code",
   "execution_count": 105,
   "metadata": {},
   "outputs": [],
   "source": [
    "#Model 4\n",
    "model4 = Sequential()\n",
    "model4.add(Conv2D(32, kernel_size=(5,5),activation='relu'))\n",
    "model4.add(Conv2D(64, (5, 5), activation='relu'))\n",
    "model4.add(MaxPooling2D(pool_size=(2, 2)))\n",
    "model4.add(Conv2D(128, (5, 5), activation='relu'))\n",
    "model4.add(Conv2D(64, (5, 5), activation='relu'))\n",
    "model4.add(MaxPooling2D(pool_size=(2, 2)))\n",
    "model4.add(Dropout(0.5))\n",
    "model4.add(Flatten())\n",
    "model4.add(Dense(10, activation='softmax'))\n",
    "model4.compile(loss='categorical_crossentropy', optimizer=Adam(), metrics=['accuracy'])"
   ]
  },
  {
   "cell_type": "code",
   "execution_count": 106,
   "metadata": {},
   "outputs": [],
   "source": [
    "def evluate(model, dataX, dataY, K):\n",
    "\n",
    "    kfold = KFold(K, shuffle=True, random_state=1)\n",
    "    for train_indx, test_indx in kfold.split(dataX):\n",
    "            \n",
    "        trainX, trainY, testX, testY = dataX[train_indx], dataY[train_indx], dataX[test_indx], dataY[test_indx]\n",
    "\n",
    "        model.fit(trainX, trainY, epochs=1, validation_data=(testX, testY),verbose=0)\n",
    "        _, Accuracy = model.evaluate(testX, testY,verbose=0)\n",
    "\n",
    "        print('Accuracy %.3f' % (Accuracy * 100.0))\n",
    "\n"
   ]
  },
  {
   "cell_type": "code",
   "execution_count": 115,
   "metadata": {},
   "outputs": [
    {
     "name": "stdout",
     "output_type": "stream",
     "text": [
      "Accuracy 99.030\n",
      "Accuracy 99.295\n",
      "Accuracy 99.385\n"
     ]
    }
   ],
   "source": [
    "evluate(model,trainX, trainY, 3)"
   ]
  },
  {
   "cell_type": "code",
   "execution_count": 114,
   "metadata": {},
   "outputs": [
    {
     "name": "stdout",
     "output_type": "stream",
     "text": [
      "Accuracy 96.735\n",
      "Accuracy 98.105\n",
      "Accuracy 98.520\n"
     ]
    }
   ],
   "source": [
    "evluate(model2,trainX, trainY, 3)"
   ]
  },
  {
   "cell_type": "code",
   "execution_count": 110,
   "metadata": {},
   "outputs": [
    {
     "name": "stdout",
     "output_type": "stream",
     "text": [
      "Accuracy 98.395\n",
      "Accuracy 98.905\n",
      "Accuracy 99.130\n"
     ]
    }
   ],
   "source": [
    "evluate(model3, trainX, trainY, 3)"
   ]
  },
  {
   "cell_type": "code",
   "execution_count": 111,
   "metadata": {},
   "outputs": [
    {
     "name": "stdout",
     "output_type": "stream",
     "text": [
      "Accuracy 98.097\n",
      "Accuracy 98.577\n"
     ]
    }
   ],
   "source": [
    "evluate(model4, trainX, trainY, 2)"
   ]
  },
  {
   "cell_type": "code",
   "execution_count": null,
   "metadata": {},
   "outputs": [],
   "source": []
  }
 ],
 "metadata": {
  "kernelspec": {
   "display_name": "Python 3",
   "language": "python",
   "name": "python3"
  },
  "language_info": {
   "codemirror_mode": {
    "name": "ipython",
    "version": 3
   },
   "file_extension": ".py",
   "mimetype": "text/x-python",
   "name": "python",
   "nbconvert_exporter": "python",
   "pygments_lexer": "ipython3",
   "version": "3.8.5"
  }
 },
 "nbformat": 4,
 "nbformat_minor": 4
}
